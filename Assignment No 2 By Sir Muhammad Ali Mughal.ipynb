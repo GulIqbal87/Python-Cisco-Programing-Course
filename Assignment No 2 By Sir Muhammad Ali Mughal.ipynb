{
 "cells": [
  {
   "cell_type": "markdown",
   "metadata": {},
   "source": [
    "# Question 1: "
   ]
  },
  {
   "cell_type": "markdown",
   "metadata": {},
   "source": [
    "#### Write a program which takes 5 inputs from user for different subject’s marks, total it and generate mark sheet using grades "
   ]
  },
  {
   "cell_type": "code",
   "execution_count": 15,
   "metadata": {},
   "outputs": [
    {
     "name": "stdout",
     "output_type": "stream",
     "text": [
      "Enter The Marks of Math :  90\n",
      "Enter The Marks of Physics :  97\n",
      "Enter The Marks of Chemistry :  98\n",
      "Enter The Marks of Urdu :  96\n",
      "Enter The Marks of English :  80\n",
      "Grade: A\n"
     ]
    }
   ],
   "source": [
    "math=int(input(\"Enter The Marks of Math :  \"))\n",
    "physics=int(input(\"Enter The Marks of Physics :  \"))\n",
    "chemistry=int(input(\"Enter The Marks of Chemistry :  \"))\n",
    "urdu=int(input(\"Enter The Marks of Urdu :  \"))\n",
    "english=int(input(\"Enter The Marks of English :  \"))\n",
    "#Total Marks stored in a variable \"sum\"\n",
    "sum=math + physics + chemistry +urdu +english  \n",
    "#Find Average and store in variable \"avg\"\n",
    "avg= (math + physics + chemistry +urdu +english)/5\n",
    "#Grading marks\n",
    "if(avg>=90):\n",
    "    print(\"Grade: A\")\n",
    "elif(avg>=80,avg<90):\n",
    "    print(\"Grade: B\")\n",
    "elif(avg>=70,avg<80):\n",
    "    print(\"Grade: C\")\n",
    "elif(avg>=60,avg<70):\n",
    "    print(\"Grade: D\")\n",
    "else:\n",
    "    print(\"Grade: F\")\n",
    "    "
   ]
  },
  {
   "cell_type": "markdown",
   "metadata": {},
   "source": [
    "# Question 2:"
   ]
  },
  {
   "cell_type": "markdown",
   "metadata": {},
   "source": [
    "#### Write a program which take input from user and identify that the given number is even or odd?"
   ]
  },
  {
   "cell_type": "code",
   "execution_count": 17,
   "metadata": {},
   "outputs": [
    {
     "name": "stdout",
     "output_type": "stream",
     "text": [
      "Enter a number: 989\n",
      "This is an odd number.\n"
     ]
    }
   ],
   "source": [
    "num = int(input(\"Enter a number: \"))\n",
    "mod = num % 2\n",
    "if mod > 0:\n",
    "    print(\"This is an odd number.\")\n",
    "else:\n",
    "    print(\"This is an even number.\")"
   ]
  },
  {
   "cell_type": "markdown",
   "metadata": {},
   "source": [
    "# Question Number 3 :"
   ]
  },
  {
   "cell_type": "markdown",
   "metadata": {},
   "source": [
    "#### Write a program which print the length of the list?"
   ]
  },
  {
   "cell_type": "code",
   "execution_count": 1,
   "metadata": {},
   "outputs": [
    {
     "data": {
      "text/plain": [
       "5"
      ]
     },
     "execution_count": 1,
     "metadata": {},
     "output_type": "execute_result"
    }
   ],
   "source": [
    "subjects=[\"Physics\",\"Chemistry\",\"Math\",\"Urdu\",\"English\"]\n",
    "len(subjects)"
   ]
  },
  {
   "cell_type": "markdown",
   "metadata": {},
   "source": [
    "# Question Number 4 :"
   ]
  },
  {
   "cell_type": "markdown",
   "metadata": {},
   "source": [
    "#### Write a Python program to sum all the numeric items in a list?"
   ]
  },
  {
   "cell_type": "code",
   "execution_count": 3,
   "metadata": {},
   "outputs": [
    {
     "data": {
      "text/plain": [
       "93"
      ]
     },
     "execution_count": 3,
     "metadata": {},
     "output_type": "execute_result"
    }
   ],
   "source": [
    "math=[12,23,12,12,34]\n",
    "sum(math)"
   ]
  },
  {
   "cell_type": "markdown",
   "metadata": {},
   "source": [
    "# Question Number 5 :"
   ]
  },
  {
   "cell_type": "markdown",
   "metadata": {},
   "source": [
    "#### Python program to get the largest number from a numeric list."
   ]
  },
  {
   "cell_type": "code",
   "execution_count": 9,
   "metadata": {},
   "outputs": [
    {
     "name": "stdout",
     "output_type": "stream",
     "text": [
      "Largest Number in The list Is: 2067\n"
     ]
    }
   ],
   "source": [
    "# Python program to find largest \n",
    "# number in a list using .sort\n",
    "\n",
    "# list of numbers \n",
    "list1 = [1000, 2067, 422, 450, 990] \n",
    "\n",
    "# sorting the list \n",
    "list1.sort() \n",
    "\n",
    "# printing the last element \n",
    "print(\"Largest Number in The list Is:\", list1[-1]) "
   ]
  },
  {
   "cell_type": "code",
   "execution_count": 10,
   "metadata": {},
   "outputs": [
    {
     "name": "stdout",
     "output_type": "stream",
     "text": [
      "Largest Number in The list Is: 1030\n"
     ]
    }
   ],
   "source": [
    "# Python program to find largest \n",
    "# number in a list using max\n",
    "# list of numbers \n",
    "list1 = [1030, 20, 4, 45, 99] \n",
    "\n",
    "\n",
    "# printing the maximum element \n",
    "print(\"Largest Number in The list Is:\", max(list1)) "
   ]
  },
  {
   "cell_type": "code",
   "execution_count": 8,
   "metadata": {},
   "outputs": [
    {
     "name": "stdout",
     "output_type": "stream",
     "text": [
      "Largest Number in The list Is: 5.33\n"
     ]
    }
   ],
   "source": [
    "# Python program to find largest \n",
    "# number in a Floating list \n",
    "List = [2.3, 4.445, 3, 5.33, 1.054, 2.5] \n",
    "print(\"Largest Number in The list Is:\",max(List)) "
   ]
  },
  {
   "cell_type": "markdown",
   "metadata": {},
   "source": [
    "# Question Number 6 :"
   ]
  },
  {
   "cell_type": "markdown",
   "metadata": {},
   "source": [
    "#### write a program that prints out all the elements of the list that are less than 5"
   ]
  },
  {
   "cell_type": "code",
   "execution_count": 4,
   "metadata": {},
   "outputs": [
    {
     "name": "stdout",
     "output_type": "stream",
     "text": [
      "1\n",
      "1\n",
      "2\n",
      "3\n"
     ]
    }
   ],
   "source": [
    "a = [1, 1, 2, 3, 5, 8, 13, 21, 34, 55, 89]\n",
    "for les in a:\n",
    "    if les<5:\n",
    "        print (les)"
   ]
  },
  {
   "cell_type": "code",
   "execution_count": null,
   "metadata": {},
   "outputs": [],
   "source": []
  }
 ],
 "metadata": {
  "kernelspec": {
   "display_name": "Python 3",
   "language": "python",
   "name": "python3"
  },
  "language_info": {
   "codemirror_mode": {
    "name": "ipython",
    "version": 3
   },
   "file_extension": ".py",
   "mimetype": "text/x-python",
   "name": "python",
   "nbconvert_exporter": "python",
   "pygments_lexer": "ipython3",
   "version": "3.7.3"
  }
 },
 "nbformat": 4,
 "nbformat_minor": 2
}
