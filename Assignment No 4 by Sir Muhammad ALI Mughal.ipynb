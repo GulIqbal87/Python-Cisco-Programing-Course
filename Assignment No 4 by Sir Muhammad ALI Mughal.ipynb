{
 "cells": [
  {
   "cell_type": "markdown",
   "metadata": {},
   "source": [
    "# Question1:\n",
    "Use a dictionary to store information about a person you know.\n",
    "Store their first name, last name, age, and the city in which they live.\n",
    "You should have keys such as first_name, last_name, age, and city.\n",
    "Print each piece of information stored in your dictionary.\n",
    "Add a new key value pair about qualification then update the qualification value to high academic level then delete it.\n"
   ]
  },
  {
   "cell_type": "code",
   "execution_count": 2,
   "metadata": {},
   "outputs": [
    {
     "data": {
      "text/plain": [
       "{'first_name': 'Muhammad',\n",
       " 'middle_name': 'Gul',\n",
       " 'last_name': 'Iqbal',\n",
       " 'age': 30}"
      ]
     },
     "execution_count": 2,
     "metadata": {},
     "output_type": "execute_result"
    }
   ],
   "source": [
    "mySelf={\n",
    "    \"first_name\"  : \"Muhammad\",\n",
    "    \"middle_name\" : \"Gul\",\n",
    "    \"last_name\"   : \"Iqbal\",\n",
    "    \"age\"         : 30\n",
    "    \n",
    "}\n",
    "mySelf"
   ]
  },
  {
   "cell_type": "code",
   "execution_count": 4,
   "metadata": {},
   "outputs": [
    {
     "data": {
      "text/plain": [
       "{'first_name': 'Muhammad',\n",
       " 'middle_name': 'Gul',\n",
       " 'last_name': 'Iqbal',\n",
       " 'age': 30,\n",
       " 'city': 'Kallar Kahar'}"
      ]
     },
     "execution_count": 4,
     "metadata": {},
     "output_type": "execute_result"
    }
   ],
   "source": [
    "mySelf[\"city\"]= \"Kallar Kahar\"\n",
    "mySelf"
   ]
  },
  {
   "cell_type": "code",
   "execution_count": 5,
   "metadata": {},
   "outputs": [
    {
     "data": {
      "text/plain": [
       "5"
      ]
     },
     "execution_count": 5,
     "metadata": {},
     "output_type": "execute_result"
    }
   ],
   "source": [
    "len(mySelf)"
   ]
  },
  {
   "cell_type": "markdown",
   "metadata": {},
   "source": [
    "# Question2:\n",
    "Make a dictionary called cities.\n",
    "Use the names of three cities as keys in your dictionary.\n",
    "Create a dictionary of information about each city and include the country that the city is in,\n",
    "its approximate population, and one fact about that city.\n",
    "The keys for each city’s dictionary should be something like country,\n",
    "population, and fact. Print the name of each city and all of the information you have stored about it."
   ]
  },
  {
   "cell_type": "code",
   "execution_count": 16,
   "metadata": {},
   "outputs": [
    {
     "data": {
      "text/plain": [
       "{0: {'Kallar Kahar': 'Punjab', 'country': 'Pakistan', 'Population': 300000},\n",
       " 1: {'Islamabad': 'Punjab', 'country': 'Pakistan', 'Population': 500000}}"
      ]
     },
     "execution_count": 16,
     "metadata": {},
     "output_type": "execute_result"
    }
   ],
   "source": [
    "cities={\n",
    "    0:{\n",
    "        \"Kallar Kahar\":\"Punjab\",\n",
    "        \"country\":\"Pakistan\",\n",
    "        \"Population\":300000\n",
    "    },\n",
    "    \n",
    "    1:{\n",
    "        \"Islamabad\":\"Punjab\",\n",
    "        \"country\":\"Pakistan\",\n",
    "        \"Population\": 500000\n",
    "    },\n",
    "    }\n",
    "cities"
   ]
  },
  {
   "cell_type": "markdown",
   "metadata": {},
   "source": [
    "# Question :3\n",
    "A movie theater charges different ticket prices depending on a person’s age.\n",
    "If a person is under the age of 3, the ticket is free; if they are between 3 and 12,\n",
    "the ticket is $10; and if they are over age 12, the ticket is $15.\n",
    "Write a loop in which you ask users their age, and then tell them the cost of their movie ticket."
   ]
  },
  {
   "cell_type": "code",
   "execution_count": 18,
   "metadata": {},
   "outputs": [
    {
     "name": "stdout",
     "output_type": "stream",
     "text": [
      "Enter age : 2\n",
      "Ticket is free\n",
      "Are you want to take ticket y/n: y\n",
      "Enter age : 4\n",
      "Ticket is 10$\n",
      "Are you want to take ticket y/n: y\n",
      "Enter age : 1\n",
      "Ticket is free\n",
      "Are you want to take ticket y/n: n\n"
     ]
    }
   ],
   "source": [
    "flag='y'\n",
    "while flag!='n':\n",
    "    age=int(input(\"Enter age : \"))\n",
    "    if age>12:\n",
    "        print(\"Ticket is 15$\")\n",
    "    elif age>=3:\n",
    "        print(\"Ticket is 10$\")\n",
    "    else:\n",
    "        print(\"Ticket is free\")\n",
    "    flag=input(\"Are you want to take ticket y/n: \")"
   ]
  },
  {
   "cell_type": "markdown",
   "metadata": {},
   "source": [
    "# Question :04\n",
    "Write a function called favorite_book() that accepts one parameter, title. The function should print a message, \n",
    "such as One of my favorite books is Alice in Wonderland.Call the function, making sure to include a book \n",
    "title as an argument in the function call."
   ]
  },
  {
   "cell_type": "code",
   "execution_count": 19,
   "metadata": {},
   "outputs": [
    {
     "name": "stdout",
     "output_type": "stream",
     "text": [
      "The Way We Live Now.\n"
     ]
    }
   ],
   "source": [
    "def favorite_book(title):\n",
    "    print(title)\n",
    "book_title=\"The Way We Live Now.\"\n",
    "if(len(book_title)!=0):\n",
    "    favorite_book(book_title)\n",
    "else:\n",
    "    print(\"Please populate the book title\")"
   ]
  },
  {
   "cell_type": "markdown",
   "metadata": {},
   "source": [
    "# Question:05\n",
    "Write a program which randomly generate a number between 1 to 30 and ask the user in input field \n",
    "to guess the correct number. Give three chances to user guess the number and also \n",
    "give hint to user if hidden number is greater or smaller than the number he given to input field."
   ]
  },
  {
   "cell_type": "code",
   "execution_count": 21,
   "metadata": {},
   "outputs": [
    {
     "name": "stdout",
     "output_type": "stream",
     "text": [
      "Enter the Guess Number: 4\n",
      "You Guess Lower Number\n",
      "Computer's Guess Number:  27\n",
      "Enter the Guess Number: 4\n",
      "You Guess Lower Number\n",
      "Computer's Guess Number:  24\n",
      "Enter the Guess Number: 31\n",
      "You Guess Higher Number\n",
      "Computer's Guess Number:  5\n"
     ]
    }
   ],
   "source": [
    "import random\n",
    "count = 0\n",
    "while count < 3:\n",
    "    guess = int(input(\"Enter the Guess Number: \"))\n",
    "    count += 1\n",
    "    rand = random.randint(1,30)\n",
    "    if guess == rand:\n",
    "        print(\"You Guess Correct Number\")\n",
    "    elif guess > rand:\n",
    "        print(\"You Guess Higher Number\")\n",
    "    elif guess < rand:\n",
    "        print(\"You Guess Lower Number\")\n",
    "    print(\"Computer's Guess Number: \",rand)"
   ]
  },
  {
   "cell_type": "code",
   "execution_count": null,
   "metadata": {},
   "outputs": [],
   "source": []
  }
 ],
 "metadata": {
  "kernelspec": {
   "display_name": "Python 3",
   "language": "python",
   "name": "python3"
  },
  "language_info": {
   "codemirror_mode": {
    "name": "ipython",
    "version": 3
   },
   "file_extension": ".py",
   "mimetype": "text/x-python",
   "name": "python",
   "nbconvert_exporter": "python",
   "pygments_lexer": "ipython3",
   "version": "3.7.4"
  }
 },
 "nbformat": 4,
 "nbformat_minor": 2
}
