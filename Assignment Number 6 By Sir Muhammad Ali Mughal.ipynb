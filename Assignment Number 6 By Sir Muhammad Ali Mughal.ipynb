{
 "cells": [
  {
   "cell_type": "markdown",
   "metadata": {},
   "source": [
    "# Question Number 1:\n",
    "#### Define Object Oriented Programming Language?????"
   ]
  },
  {
   "cell_type": "markdown",
   "metadata": {},
   "source": [
    "    Object-oriented programming (OOP) is a programming paradigm based on the concept of \"objects\", which can contain data, in the form of fields (often known as attributes or properties), and code, in the form of procedures (often known as methods). A feature of objects is an object's procedures that can access and often modify the data fields of the object with which they are associated (objects have a notion of \"this\" or \"self\"). In OOP, computer programs are designed by making them out of objects that interact with one another. OOP languages are diverse, but the most popular ones are class-based, meaning that objects are instances of classes, which also determine their types.\n",
    "    "
   ]
  },
  {
   "cell_type": "markdown",
   "metadata": {},
   "source": [
    "# Question Number 2:\n",
    "#### Ans : Benefits Of OOPs "
   ]
  },
  {
   "cell_type": "markdown",
   "metadata": {},
   "source": [
    "    1.Modularity for easier troubleshooting\n",
    "    2.Reuse of code through inheritance.\n",
    "    3.Flexibility through polymorphism.\n",
    "    4.Effective problem solving.\n",
    " \n",
    "    "
   ]
  },
  {
   "cell_type": "markdown",
   "metadata": {},
   "source": [
    "# Question Number 3:\n",
    "#### Ans :Differentiate between function and method?"
   ]
  },
  {
   "cell_type": "markdown",
   "metadata": {},
   "source": [
    "    A function is a block of code to carry out a specific task, will contain its own scope and is called by name. While a method in python is somewhat similar to a function, except it is associated with object/classes.\n",
    "    A function is a piece of code that is called by name. It can be passed data to operate on (i.e. the parameters) and can optionally return data (the return value). All data that is passed to a function is explicitly passed.\n",
    "\n",
    "    A method is a piece of code that is called by a name that is associated with an object. In most respects it is identical to a function except for two key differences:\n",
    "   1. A method is implicitly passed the object on which it was called.\n",
    "   2. A method is able to operate on data that is contained within the class (remembering that an object is an instance of a class - the class is the definition, the object is an instance of that data)."
   ]
  },
  {
   "cell_type": "markdown",
   "metadata": {},
   "source": [
    "# Question Number 4:"
   ]
  },
  {
   "cell_type": "markdown",
   "metadata": {},
   "source": [
    "1. Class\n",
    "2. Object\n",
    "3. Attribute\n",
    "4. Behavior\n",
    "    1. Class: In object-oriented programming, a class is a blueprint for creating objects (a data structure),\n",
    "providing initial values for state (member variables or attributes), and implementations of behavior\n",
    "(member functions or methods). For Example, the list in python is blueprint of creating list objects.\n",
    "    2. Object: In object-oriented programming (OOP), objects are the things you think about first in\n",
    "designing a program, each object is made into a generic class of object. Each object is an instance of\n",
    "a class or subclass with the class's own methods or procedures and data variables. For Example,\n",
    "from list class python we can create objects like l = [1,2,3,4], l = [‘a’, ‘b’, ‘c’, TRUE]\n",
    "    3. Attribute: The attributes are data members (class variables and instance variables) and methods,\n",
    "accessed via dot notation.\n",
    "    4. Behavior: A class's behavior determines how an instance of that class operates."
   ]
  },
  {
   "cell_type": "markdown",
   "metadata": {},
   "source": [
    "# Question5:"
   ]
  },
  {
   "cell_type": "code",
   "execution_count": 5,
   "metadata": {},
   "outputs": [
    {
     "ename": "AttributeError",
     "evalue": "'Car' object has no attribute 'full_name'",
     "output_type": "error",
     "traceback": [
      "\u001b[1;31m---------------------------------------------------------------------------\u001b[0m",
      "\u001b[1;31mAttributeError\u001b[0m                            Traceback (most recent call last)",
      "\u001b[1;32m<ipython-input-5-44a19e8e366c>\u001b[0m in \u001b[0;36m<module>\u001b[1;34m\u001b[0m\n\u001b[0;32m     20\u001b[0m \u001b[0mcar_5\u001b[0m \u001b[1;33m=\u001b[0m \u001b[0mCar\u001b[0m\u001b[1;33m(\u001b[0m\u001b[1;34m\"Royal Speed\"\u001b[0m\u001b[1;33m,\u001b[0m \u001b[1;34m\"Red\"\u001b[0m\u001b[1;33m,\u001b[0m \u001b[1;34m\"BMW\"\u001b[0m\u001b[1;33m,\u001b[0m \u001b[1;36m2018\u001b[0m\u001b[1;33m,\u001b[0m \u001b[1;36m250000000\u001b[0m\u001b[1;33m)\u001b[0m\u001b[1;33m\u001b[0m\u001b[1;33m\u001b[0m\u001b[0m\n\u001b[0;32m     21\u001b[0m \u001b[1;33m\u001b[0m\u001b[0m\n\u001b[1;32m---> 22\u001b[1;33m \u001b[0mcar_5\u001b[0m\u001b[1;33m.\u001b[0m\u001b[0mfull_name\u001b[0m\u001b[1;33m(\u001b[0m\u001b[1;33m)\u001b[0m\u001b[1;33m\u001b[0m\u001b[1;33m\u001b[0m\u001b[0m\n\u001b[0m\u001b[0;32m     23\u001b[0m \u001b[0mcar_1\u001b[0m\u001b[1;33m.\u001b[0m\u001b[0mread_odometer\u001b[0m\u001b[1;33m(\u001b[0m\u001b[1;33m)\u001b[0m\u001b[1;33m\u001b[0m\u001b[1;33m\u001b[0m\u001b[0m\n\u001b[0;32m     24\u001b[0m \u001b[0mcar_3\u001b[0m\u001b[1;33m.\u001b[0m\u001b[0mfull_name\u001b[0m\u001b[1;33m(\u001b[0m\u001b[1;33m)\u001b[0m\u001b[1;33m\u001b[0m\u001b[1;33m\u001b[0m\u001b[0m\n",
      "\u001b[1;31mAttributeError\u001b[0m: 'Car' object has no attribute 'full_name'"
     ]
    }
   ],
   "source": [
    "class Car():\n",
    "    def __init__(self,model,color,name,year,price):\n",
    "        self.model = model\n",
    "        self.color = color\n",
    "        self.name = full_name\n",
    "        self.year = year\n",
    "        self.price = price\n",
    "        self.odometer_reading = 0\n",
    "def full_name(self):\n",
    "        print(str(self.year) + \" \" + self.name + \" \" + self.model.upper())\n",
    "def read_odometer(self):\n",
    "         print(\"This car has\" + \" \" + str(self.odometer_reading) + \" miles on it\")\n",
    "def update_odometer(self,miles):\n",
    "         self.odometer_reading = miles\n",
    "         print(\"The car is running \" + str(miles) + \" miles\")\n",
    "car_1 = Car(\"VX4\", \"White\", \"Suzuki\", 2009, 1200000)\n",
    "car_2 = Car(\"2-OD\", \"Gray\", \"Toyota\", 2015, 24000000)\n",
    "car_3 = Car(\"Blaze\", \"Black\", \"Vitz\", 2016, 19000000)\n",
    "car_4 = Car(\"Vagon-R\", \"Blue\", \"Honda\", 2013, 2200000)\n",
    "car_5 = Car(\"Royal Speed\", \"Red\", \"BMW\", 2018, 250000000)\n",
    "\n",
    "car_5.full_name()\n",
    "car_1.read_odometer()\n",
    "car_3.full_name()\n",
    "car_3.update_odometer(100)"
   ]
  },
  {
   "cell_type": "code",
   "execution_count": null,
   "metadata": {},
   "outputs": [],
   "source": []
  }
 ],
 "metadata": {
  "kernelspec": {
   "display_name": "Python 3",
   "language": "python",
   "name": "python3"
  },
  "language_info": {
   "codemirror_mode": {
    "name": "ipython",
    "version": 3
   },
   "file_extension": ".py",
   "mimetype": "text/x-python",
   "name": "python",
   "nbconvert_exporter": "python",
   "pygments_lexer": "ipython3",
   "version": "3.7.4"
  }
 },
 "nbformat": 4,
 "nbformat_minor": 2
}
