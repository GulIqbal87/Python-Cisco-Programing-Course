{
 "cells": [
  {
   "cell_type": "markdown",
   "metadata": {},
   "source": [
    "# Question Number 1:\n",
    "## Write a Python function to calculate the factorial of a number (a non-negativeinteger).The function accepts the number as an argument."
   ]
  },
  {
   "cell_type": "code",
   "execution_count": 3,
   "metadata": {},
   "outputs": [
    {
     "name": "stdout",
     "output_type": "stream",
     "text": [
      "Input a number to compute the factiorial : 5\n",
      "120\n",
      "120\n"
     ]
    }
   ],
   "source": [
    "#Define function named factorial and giving perameter n after that we apply condation that if n is equal to 0 then return 1.esle\n",
    "#compute the fectorial of given number by the user.\n",
    "def factorial(n):\n",
    "    if n == 0:\n",
    "        return 1\n",
    "    else:\n",
    "        return n * factorial(n-1)\n",
    "#Taking input fromn user and save in to variable n\n",
    "n=int(input(\"Input a number to compute the factiorial : \"))\n",
    "#print the fectioral of given number.\n",
    "print(factorial(n))\n",
    "#   5*4*3*2*1\n",
    "#verification\n",
    "print(5*4*3*2*1)"
   ]
  },
  {
   "cell_type": "code",
   "execution_count": 3,
   "metadata": {},
   "outputs": [
    {
     "name": "stdout",
     "output_type": "stream",
     "text": [
      "120\n"
     ]
    }
   ],
   "source": [
    "#2nd method\n",
    "def factorial(n):\n",
    "    num = 1\n",
    "    while n > 0:\n",
    "        num *= n\n",
    "        n -= 1\n",
    "    return num\n",
    "\n",
    "print(factorial(5))"
   ]
  },
  {
   "cell_type": "markdown",
   "metadata": {},
   "source": [
    "# Question Number 2:\n",
    "## Write a Python function that accepts a string and calculate the number of upper case letters and lower case letters."
   ]
  },
  {
   "cell_type": "code",
   "execution_count": 23,
   "metadata": {},
   "outputs": [
    {
     "name": "stdout",
     "output_type": "stream",
     "text": [
      "Original String :  ThiS Is teSt StRiNg\n",
      "No. of Upper case characters :  7\n",
      "No. of Lower case Characters :  9\n"
     ]
    }
   ],
   "source": [
    "# |  isupper(self, /)\n",
    "#|      Return True if the string is an uppercase string, False otherwise.\n",
    "#|      A string is uppercase if all cased characters in the string are uppercase and\n",
    "#|      there is at least one cased character in the string.\n",
    "\n",
    "def string_test(s):\n",
    "    d={\"UPPER_CASE\":0, \"LOWER_CASE\":0}\n",
    "    for c in s:\n",
    "        if c.isupper():\n",
    "           d[\"UPPER_CASE\"]+=1\n",
    "        elif c.islower():\n",
    "           d[\"LOWER_CASE\"]+=1\n",
    "        else:\n",
    "           pass\n",
    "    print (\"Original String : \", s)\n",
    "    print (\"No. of Upper case characters : \", d[\"UPPER_CASE\"])\n",
    "    print (\"No. of Lower case Characters : \", d[\"LOWER_CASE\"])\n",
    "\n",
    "string_test(\"ThiS Is teSt StRiNg\")\n",
    "\n",
    "# |  islower(self, /)\n",
    "#|      Return True if the string is a lowercase string, False otherwise. \n",
    "#|      A string is lowercase if all cased characters in the string are lowercase and\n",
    "#|      there is at least one cased character in the string."
   ]
  },
  {
   "cell_type": "markdown",
   "metadata": {},
   "source": [
    "# Question Number 3:\n",
    "## Write a Python function to print the even numbers from a given list."
   ]
  },
  {
   "cell_type": "code",
   "execution_count": 4,
   "metadata": {},
   "outputs": [
    {
     "name": "stdout",
     "output_type": "stream",
     "text": [
      "[114, 26, 6, 74, 64, 44]\n"
     ]
    }
   ],
   "source": [
    "def evenIndex(nums):\n",
    "    li = []\n",
    "    for num in range(0,len(nums)):\n",
    "        if nums[num] % 2 == 0:\n",
    "            li.append(nums[num])\n",
    "    return li\n",
    "    \n",
    "print(evenIndex([114,26,33,5,63,7,445,6,74,64,45.5,102.2,44]))"
   ]
  },
  {
   "cell_type": "markdown",
   "metadata": {},
   "source": [
    "# Question Number 4:\n",
    "## Write a Python function that checks whether a passed string is palindrome or not.Note: A palindrome is a word, phrase, or sequence that reads the same backward as forward, e.g., madam"
   ]
  },
  {
   "cell_type": "code",
   "execution_count": 5,
   "metadata": {},
   "outputs": [
    {
     "name": "stdout",
     "output_type": "stream",
     "text": [
      "Enter any word to test if it is pelindrome: gjjuytt\n",
      "It is'nt palindrome.\n"
     ]
    }
   ],
   "source": [
    "def palindromeTEST(word):\n",
    "    reverse = ''.join(reversed(word))\n",
    "    if word == reverse and word != \"\":\n",
    "        return \"You entered a palindrome.\"\n",
    "    else:\n",
    "        return \"It is'nt palindrome.\"\n",
    "\n",
    "check_palindrome = input(\"Enter any word to test if it is pelindrome: \")\n",
    "print(palindromeTEST(check_palindrome))"
   ]
  },
  {
   "cell_type": "markdown",
   "metadata": {},
   "source": [
    "# Question Number 5:\n",
    "## Write a Python function that takes a number as a parameter and check the number is prime or not."
   ]
  },
  {
   "cell_type": "code",
   "execution_count": 8,
   "metadata": {},
   "outputs": [
    {
     "name": "stdout",
     "output_type": "stream",
     "text": [
      "Enter any number to check if it is prime or not: 11\n",
      "It is a prime number.\n"
     ]
    }
   ],
   "source": [
    "def isprime():\n",
    "    nums = int(input(\"Enter any number to check if it is prime or not: \"))\n",
    "    return prime(nums)\n",
    "\n",
    "def prime(nums):\n",
    "    if nums > 1:\n",
    "        for num in range(2,nums):\n",
    "            if (nums % num) == 0:\n",
    "                print(\"It is not a prime number.\")\n",
    "                print(num,\"times\",nums//num, \"is\", nums)\n",
    "                break\n",
    "        else:\n",
    "            print(\"It is a prime number.\")\n",
    "\n",
    "isprime()"
   ]
  },
  {
   "cell_type": "markdown",
   "metadata": {},
   "source": [
    "# Question Number 6:\n",
    "## Write a function which accepts the multiple arguments of user shopping list and print all the items which user bought from market.\""
   ]
  },
  {
   "cell_type": "code",
   "execution_count": 9,
   "metadata": {},
   "outputs": [
    {
     "name": "stdout",
     "output_type": "stream",
     "text": [
      "\n",
      "Enter an item to add it in your cart: \n",
      "or Press [ENTER] to finish: \n",
      "ass 6\n",
      "\n",
      "Enter an item to add it in your cart: \n",
      "or Press [ENTER] to finish: \n",
      "\n",
      "\n",
      "Items you have bought is:\n",
      "Ass 6\n",
      "\n"
     ]
    }
   ],
   "source": [
    "def boughtITEM():\n",
    "    cart = []\n",
    "    while True:                                  \n",
    "        carts = input(\"\\nEnter an item to add it in your cart: \\nor Press [ENTER] to finish: \\n\")\n",
    "        if carts == \"\":\n",
    "            break\n",
    "        cart.append(carts)\n",
    "    item_list = \"\"\n",
    "    for item in range(0,len(cart)):\n",
    "        item_list = item_list + cart[item].title() + \"\\n\"\n",
    "    print(\"\\nItems you have bought is:\\n\"+item_list)\n",
    "\n",
    "boughtITEM()"
   ]
  },
  {
   "cell_type": "code",
   "execution_count": null,
   "metadata": {},
   "outputs": [],
   "source": []
  }
 ],
 "metadata": {
  "kernelspec": {
   "display_name": "Python 3",
   "language": "python",
   "name": "python3"
  },
  "language_info": {
   "codemirror_mode": {
    "name": "ipython",
    "version": 3
   },
   "file_extension": ".py",
   "mimetype": "text/x-python",
   "name": "python",
   "nbconvert_exporter": "python",
   "pygments_lexer": "ipython3",
   "version": "3.7.4"
  }
 },
 "nbformat": 4,
 "nbformat_minor": 2
}
