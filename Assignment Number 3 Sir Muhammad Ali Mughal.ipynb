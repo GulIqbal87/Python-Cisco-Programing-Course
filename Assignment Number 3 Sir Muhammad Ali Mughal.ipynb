{
 "cells": [
  {
   "cell_type": "markdown",
   "metadata": {},
   "source": [
    "#### Make a calculator using Python with addition , subtraction , multiplication , division and power"
   ]
  },
  {
   "cell_type": "code",
   "execution_count": 6,
   "metadata": {},
   "outputs": [
    {
     "name": "stdout",
     "output_type": "stream",
     "text": [
      "Calculator\n",
      "1.Add\n",
      "2.Substract\n",
      "3.Multiply\n",
      "4.Divide\n",
      "Enter Choice(1-4): 2\n",
      "Enter First Number:12\n",
      "Enter second Number:12\n",
      "Difference =  0\n"
     ]
    }
   ],
   "source": [
    "# Print Calc function \n",
    "print(\"Calculator\")\n",
    "print(\"1.Add\")\n",
    "print(\"2.Substract\")\n",
    "print(\"3.Multiply\")\n",
    "print(\"4.Divide\")\n",
    "# input choice\n",
    "choice=int(input(\"Enter Choice(1-4): \"))\n",
    "\n",
    "a=int(input(\"Enter First Number:\"))\n",
    "b=int(input(\"Enter second Number:\"))\n",
    "if choice==1:\n",
    "    c=a+b\n",
    "    print(\"Sum = \",c)\n",
    "elif choice==2:\n",
    "    c=a-b\n",
    "    print(\"Difference = \",c)\n",
    "elif  choice==3:\n",
    "    c=a*b\n",
    "    print(\"Product = \",c)\n",
    "elif choice==4:\n",
    "    c=a/b\n",
    "    print(\"Quotient = \",c)\n",
    "else:\n",
    "    print(\"Invalid Choice\")"
   ]
  },
  {
   "cell_type": "code",
   "execution_count": null,
   "metadata": {},
   "outputs": [],
   "source": [
    "Question No 2:"
   ]
  },
  {
   "cell_type": "markdown",
   "metadata": {},
   "source": [
    "### Question Number 3:Write a Python script to add a key to a dictionary"
   ]
  },
  {
   "cell_type": "code",
   "execution_count": 6,
   "metadata": {},
   "outputs": [
    {
     "name": "stdout",
     "output_type": "stream",
     "text": [
      "{0: 'start', 1: 22, 2: 15, 3: 30}\n"
     ]
    }
   ],
   "source": [
    "d = {0:\"start\",1:22,2:15}\n",
    "#.update for add item in dictionary\n",
    "d.update({3:30})\n",
    "print(d)"
   ]
  },
  {
   "cell_type": "markdown",
   "metadata": {},
   "source": [
    "### Question Number 4: Write a Python program to sum all the numeric items in a dictionary"
   ]
  },
  {
   "cell_type": "code",
   "execution_count": 12,
   "metadata": {},
   "outputs": [
    {
     "name": "stdout",
     "output_type": "stream",
     "text": [
      "784\n"
     ]
    }
   ],
   "source": [
    "data = {'amount1':300 , 'amount2':450 , 'amount3': 34}\n",
    "#using builtin sum \n",
    "print(sum(data.values()))"
   ]
  },
  {
   "cell_type": "markdown",
   "metadata": {},
   "source": [
    "### Question No 5 : Write a program to identify duplicate values from list"
   ]
  },
  {
   "cell_type": "code",
   "execution_count": 19,
   "metadata": {},
   "outputs": [
    {
     "name": "stdout",
     "output_type": "stream",
     "text": [
      "Ok  ::  2\n",
      "is  ::  2\n",
      "test  ::  2\n"
     ]
    }
   ],
   "source": [
    "listOfElems = ['Hello', 'Ok', 'is', 'Ok', 'test', 'this', 'is', 'a', 'test']\n",
    "def getDuplicatesWithCount(listOfElems):\n",
    "    ''' Get frequency count of duplicate elements in the given list '''\n",
    "    dictOfElems = dict()\n",
    "    # Iterate over each element in list\n",
    "    for elem in listOfElems:\n",
    "        # If element exists in dict then increment its value else add it in dict\n",
    "        if elem in dictOfElems:\n",
    "            dictOfElems[elem] += 1\n",
    "        else:\n",
    "            dictOfElems[elem] = 1    \n",
    " \n",
    "    # Filter key-value pairs in dictionary. Keep pairs whose value is greater than 1 i.e. only duplicate elements from list.\n",
    "    dictOfElems = { key:value for key, value in dictOfElems.items() if value > 1}\n",
    "    # Returns a dict of duplicate elements and thier frequency count\n",
    "    return dictOfElems\n",
    "listOfElems = ['Hello', 'Ok', 'is', 'Ok', 'test', 'this', 'is', 'a', 'test']\n",
    " \n",
    "# Get a dictionary containing duplicate elements in list and their frequency count\n",
    "dictOfElems = getDuplicatesWithCount(listOfElems)     \n",
    " \n",
    "for key, value in dictOfElems.items():\n",
    "        print(key , ' :: ', value)"
   ]
  },
  {
   "cell_type": "markdown",
   "metadata": {},
   "source": [
    "### Question No 6 :Write a Python script to check if a given key already exists in a dictionary "
   ]
  },
  {
   "cell_type": "code",
   "execution_count": 20,
   "metadata": {},
   "outputs": [
    {
     "name": "stdout",
     "output_type": "stream",
     "text": [
      "Key is present in the dictionary\n",
      "Key is not present in the dictionary\n"
     ]
    }
   ],
   "source": [
    "d = {1: 10, 2: 20, 3: 30, 4: 40, 5: 50, 6: 60}\n",
    "def is_key_present(x):\n",
    "  if x in d:\n",
    "      print('Key is present in the dictionary')\n",
    "  else:\n",
    "      print('Key is not present in the dictionary')\n",
    "is_key_present(5)\n",
    "is_key_present(9)"
   ]
  },
  {
   "cell_type": "code",
   "execution_count": null,
   "metadata": {},
   "outputs": [],
   "source": []
  }
 ],
 "metadata": {
  "kernelspec": {
   "display_name": "Python 3",
   "language": "python",
   "name": "python3"
  },
  "language_info": {
   "codemirror_mode": {
    "name": "ipython",
    "version": 3
   },
   "file_extension": ".py",
   "mimetype": "text/x-python",
   "name": "python",
   "nbconvert_exporter": "python",
   "pygments_lexer": "ipython3",
   "version": "3.7.4"
  }
 },
 "nbformat": 4,
 "nbformat_minor": 2
}
